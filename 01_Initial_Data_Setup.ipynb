{
 "cells": [
  {
   "cell_type": "markdown",
   "metadata": {},
   "source": [
    "# 1. Setup All Workshop Dependencies\n",
    "\n",
    "## _Note:  This Notebook Will Take A Few Minutes To Complete._\n",
    "\n",
    "## _Please Be Patient._"
   ]
  },
  {
   "cell_type": "code",
   "execution_count": 1,
   "metadata": {},
   "outputs": [
    {
     "name": "stdout",
     "output_type": "stream",
     "text": [
      "Python 3.11.11\n"
     ]
    }
   ],
   "source": [
    "!python --version"
   ]
  },
  {
   "cell_type": "code",
   "execution_count": 2,
   "metadata": {
    "scrolled": true
   },
   "outputs": [
    {
     "name": "stdout",
     "output_type": "stream",
     "text": [
      "Package                                 Version\n",
      "--------------------------------------- --------------\n",
      "absl-py                                 2.1.0\n",
      "accelerate                              0.34.2\n",
      "adagio                                  0.2.6\n",
      "aiobotocore                             2.19.0\n",
      "aiohttp                                 3.9.5\n",
      "aiohttp-cors                            0.7.0\n",
      "aioitertools                            0.12.0\n",
      "aiosignal                               1.3.2\n",
      "aiosqlite                               0.19.0\n",
      "alembic                                 1.14.1\n",
      "altair                                  5.5.0\n",
      "amazon-q-developer-jupyterlab-ext       3.4.5\n",
      "amazon_sagemaker_jupyter_ai_q_developer 1.0.16\n",
      "amazon_sagemaker_jupyter_scheduler      3.1.8\n",
      "amazon-sagemaker-sql-editor             0.1.14\n",
      "amazon-sagemaker-sql-execution          0.1.6\n",
      "amazon-sagemaker-sql-magic              0.1.3\n",
      "annotated-types                         0.7.0\n",
      "ansi2html                               1.9.2\n",
      "ansicolors                              1.1.8\n",
      "antlr4-python3-runtime                  4.9.3\n",
      "anyio                                   4.8.0\n",
      "appdirs                                 1.4.4\n",
      "archspec                                0.2.5\n",
      "argon2-cffi                             23.1.0\n",
      "argon2-cffi-bindings                    21.2.0\n",
      "arrow                                   1.3.0\n",
      "asn1crypto                              1.5.1\n",
      "astroid                                 3.3.8\n",
      "asttokens                               3.0.0\n",
      "astunparse                              1.6.3\n",
      "async-lru                               2.0.4\n",
      "async-timeout                           4.0.3\n",
      "attrs                                   23.2.0\n",
      "autogluon                               1.2\n",
      "autogluon.common                        1.2\n",
      "autogluon.core                          1.2\n",
      "autogluon.features                      1.2\n",
      "autogluon.multimodal                    1.2\n",
      "autogluon.tabular                       1.2\n",
      "autogluon.timeseries                    1.2\n",
      "autopep8                                2.0.4\n",
      "autovizwidget                           0.22.0\n",
      "aws-embedded-metrics                    3.2.0\n",
      "aws-glue-sessions                       1.0.8\n",
      "babel                                   2.16.0\n",
      "bcrypt                                  4.2.1\n",
      "beautifulsoup4                          4.12.3\n",
      "binaryornot                             0.4.4\n",
      "bleach                                  6.2.0\n",
      "blinker                                 1.9.0\n",
      "blis                                    1.0.1\n",
      "boltons                                 24.0.0\n",
      "boto3                                   1.36.3\n",
      "botocore                                1.36.3\n",
      "Brotli                                  1.1.0\n",
      "cached-property                         1.5.2\n",
      "cachetools                              5.5.1\n",
      "catalogue                               2.0.10\n",
      "catboost                                1.2.7\n",
      "certifi                                 2024.12.14\n",
      "cffi                                    1.17.1\n",
      "chardet                                 5.2.0\n",
      "charset-normalizer                      3.4.1\n",
      "click                                   8.1.8\n",
      "cloudpathlib                            0.20.0\n",
      "cloudpickle                             2.2.1\n",
      "colorama                                0.4.6\n",
      "colorful                                0.5.6\n",
      "colorlog                                6.9.0\n",
      "comm                                    0.2.2\n",
      "conda                                   24.11.3\n",
      "conda-libmamba-solver                   24.9.0\n",
      "conda-package-handling                  2.4.0\n",
      "conda_package_streaming                 0.11.0\n",
      "confection                              0.1.4\n",
      "contextlib2                             21.6.0\n",
      "contourpy                               1.3.1\n",
      "cookiecutter                            2.6.0\n",
      "coreforecast                            0.0.12\n",
      "croniter                                1.4.1\n",
      "cryptography                            44.0.0\n",
      "cycler                                  0.12.1\n",
      "cymem                                   2.0.11\n",
      "cytoolz                                 1.0.1\n",
      "dash                                    2.18.1\n",
      "dask                                    2024.8.0\n",
      "databricks-sdk                          0.41.0\n",
      "dataclasses                             0.8\n",
      "dataclasses-json                        0.6.7\n",
      "datasets                                2.2.1\n",
      "debugpy                                 1.8.12\n",
      "decorator                               5.1.1\n",
      "deepmerge                               2.0\n",
      "defusedxml                              0.7.1\n",
      "Deprecated                              1.2.18\n",
      "dill                                    0.3.9\n",
      "diskcache                               5.6.3\n",
      "distlib                                 0.3.9\n",
      "distributed                             2024.8.0\n",
      "distro                                  1.9.0\n",
      "dnspython                               2.7.0\n",
      "docker                                  7.1.0\n",
      "docstring-to-markdown                   0.15\n",
      "email_validator                         2.2.0\n",
      "entrypoints                             0.4\n",
      "evaluate                                0.4.1\n",
      "exceptiongroup                          1.2.2\n",
      "executing                               2.1.0\n",
      "faiss                                   1.9.0\n",
      "fastai                                  2.7.18\n",
      "fastapi                                 0.115.7\n",
      "fastapi-cli                             0.0.7\n",
      "fastcore                                1.7.20\n",
      "fastdownload                            0.0.7\n",
      "fastjsonschema                          2.21.1\n",
      "fastprogress                            1.0.3\n",
      "filelock                                3.17.0\n",
      "flake8                                  7.1.1\n",
      "Flask                                   3.1.0\n",
      "flatbuffers                             25.1.24\n",
      "fonttools                               4.55.6\n",
      "fqdn                                    1.5.1\n",
      "frozendict                              2.4.6\n",
      "frozenlist                              1.5.0\n",
      "fs                                      2.4.16\n",
      "fsspec                                  2024.10.0\n",
      "fugue                                   0.9.1\n",
      "future                                  1.0.0\n",
      "gast                                    0.6.0\n",
      "gdown                                   5.2.0\n",
      "git-remote-codecommit                   1.16\n",
      "gitdb                                   4.0.12\n",
      "GitPython                               3.1.44\n",
      "gluonts                                 0.16.0\n",
      "gmpy2                                   2.1.5\n",
      "google-api-core                         2.24.1\n",
      "google-auth                             2.38.0\n",
      "google-pasta                            0.2.0\n",
      "googleapis-common-protos                1.66.0\n",
      "graphene                                3.4.3\n",
      "graphql-core                            3.2.6\n",
      "graphql-relay                           3.2.0\n",
      "graphviz                                0.20.3\n",
      "greenlet                                3.1.1\n",
      "grpcio                                  1.62.2\n",
      "gssapi                                  1.9.0\n",
      "gunicorn                                22.0.0\n",
      "h11                                     0.14.0\n",
      "h2                                      4.1.0\n",
      "h5py                                    3.12.1\n",
      "hdijupyterutils                         0.22.0\n",
      "hpack                                   4.1.0\n",
      "httpcore                                1.0.7\n",
      "httptools                               0.6.4\n",
      "httpx                                   0.28.1\n",
      "httpx-sse                               0.4.0\n",
      "huggingface_hub                         0.27.1\n",
      "hyperframe                              6.1.0\n",
      "hyperopt                                0.2.7\n",
      "idna                                    3.10\n",
      "imagecodecs-lite                        2019.12.3\n",
      "imageio                                 2.36.1\n",
      "importlib-metadata                      6.10.0\n",
      "importlib_resources                     6.5.2\n",
      "ipykernel                               6.29.5\n",
      "ipython                                 8.31.0\n",
      "ipywidgets                              8.1.5\n",
      "isoduration                             20.11.0\n",
      "isort                                   6.0.0\n",
      "itsdangerous                            2.2.0\n",
      "jedi                                    0.19.2\n",
      "Jinja2                                  3.1.5\n",
      "jmespath                                1.0.1\n",
      "joblib                                  1.4.2\n",
      "json5                                   0.10.0\n",
      "jsonpatch                               1.33\n",
      "jsonpath-ng                             1.6.1\n",
      "jsonpointer                             3.0.0\n",
      "jsonschema                              4.23.0\n",
      "jsonschema-specifications               2024.10.1\n",
      "jupyter                                 1.1.1\n",
      "jupyter-activity-monitor-extension      0.3.1\n",
      "jupyter_ai                              2.29.0\n",
      "jupyter_ai_magics                       2.29.0\n",
      "jupyter_client                          8.6.3\n",
      "jupyter_collaboration                   2.1.5\n",
      "jupyter-console                         6.6.3\n",
      "jupyter_core                            5.7.2\n",
      "jupyter-dash                            0.4.2\n",
      "jupyter-events                          0.11.0\n",
      "jupyter-lsp                             2.2.5\n",
      "jupyter_scheduler                       2.10.0\n",
      "jupyter_server                          2.15.0\n",
      "jupyter_server_fileid                   0.9.2\n",
      "jupyter_server_mathjax                  0.2.6\n",
      "jupyter_server_proxy                    4.4.0\n",
      "jupyter_server_terminals                0.5.3\n",
      "jupyter-ydoc                            2.1.3\n",
      "jupyterlab                              4.2.6\n",
      "jupyterlab_git                          0.50.2\n",
      "jupyterlab-lsp                          5.0.3\n",
      "jupyterlab_pygments                     0.3.0\n",
      "jupyterlab_server                       2.27.3\n",
      "jupyterlab_widgets                      3.0.13\n",
      "keras                                   3.8.0\n",
      "kiwisolver                              1.4.7\n",
      "krb5                                    0.5.1\n",
      "langchain                               0.3.15\n",
      "langchain-aws                           0.2.10\n",
      "langchain-community                     0.3.15\n",
      "langchain-core                          0.3.31\n",
      "langchain-text-splitters                0.3.5\n",
      "langcodes                               3.4.1\n",
      "langsmith                               0.2.11\n",
      "language_data                           1.3.0\n",
      "lazy_loader                             0.4\n",
      "libmambapy                              1.5.12\n",
      "lightgbm                                4.5.0\n",
      "lightning                               2.5.0.post0\n",
      "lightning-utilities                     0.11.9\n",
      "linkify-it-py                           2.0.3\n",
      "llvmlite                                0.43.0\n",
      "locket                                  1.0.0\n",
      "lxml                                    5.3.0\n",
      "Mako                                    1.3.8\n",
      "marisa-trie                             1.2.1\n",
      "Markdown                                3.6\n",
      "markdown-it-py                          3.0.0\n",
      "MarkupSafe                              3.0.2\n",
      "marshmallow                             3.26.0\n",
      "matplotlib                              3.10.0\n",
      "matplotlib-inline                       0.1.7\n",
      "mccabe                                  0.7.0\n",
      "mdit-py-plugins                         0.4.2\n",
      "mdurl                                   0.1.2\n",
      "memray                                  1.15.0\n",
      "menuinst                                2.2.0\n",
      "mistune                                 3.1.0\n",
      "ml-dtypes                               0.4.0\n",
      "mlflow                                  2.20.0\n",
      "mlflow-skinny                           2.20.0\n",
      "mlforecast                              0.13.4\n",
      "model-index                             0.1.11\n",
      "mpmath                                  1.3.0\n",
      "msgpack                                 1.1.0\n",
      "multidict                               6.1.0\n",
      "multiprocess                            0.70.17\n",
      "munkres                                 1.1.4\n",
      "murmurhash                              1.0.10\n",
      "mypy_extensions                         1.0.0\n",
      "namex                                   0.0.8\n",
      "narwhals                                1.24.0\n",
      "nbclient                                0.10.2\n",
      "nbconvert                               7.16.6\n",
      "nbdime                                  4.0.2\n",
      "nbformat                                5.10.4\n",
      "nest_asyncio                            1.6.0\n",
      "networkx                                3.4.2\n",
      "nlpaug                                  1.1.11\n",
      "nltk                                    3.9.1\n",
      "nose                                    1.3.7\n",
      "notebook                                7.2.2\n",
      "notebook_shim                           0.2.4\n",
      "numba                                   0.60.0\n",
      "numpy                                   1.26.4\n",
      "omegaconf                               2.3.0\n",
      "opencensus                              0.11.3\n",
      "opencensus-context                      0.1.3\n",
      "openmim                                 0.3.7\n",
      "opentelemetry-api                       1.29.0\n",
      "opentelemetry-sdk                       1.29.0\n",
      "opentelemetry-semantic-conventions      0.50b0\n",
      "opt_einsum                              3.4.0\n",
      "optree                                  0.14.0\n",
      "optuna                                  4.2.0\n",
      "ordered-set                             4.1.0\n",
      "orjson                                  3.10.15\n",
      "overrides                               7.7.0\n",
      "packaging                               24.2\n",
      "pandas                                  2.2.3\n",
      "pandocfilters                           1.5.0\n",
      "papermill                               2.6.0\n",
      "paramiko                                3.5.0\n",
      "parso                                   0.8.4\n",
      "partd                                   1.4.2\n",
      "pathos                                  0.3.3\n",
      "patsy                                   1.0.1\n",
      "pdf2image                               1.17.0\n",
      "pexpect                                 4.9.0\n",
      "pickleshare                             0.7.5\n",
      "pillow                                  11.1.0\n",
      "pip                                     24.3.1\n",
      "pkgutil_resolve_name                    1.3.10\n",
      "platformdirs                            4.3.6\n",
      "plotly                                  5.24.1\n",
      "pluggy                                  1.5.0\n",
      "ply                                     3.11\n",
      "pox                                     0.3.5\n",
      "ppft                                    1.7.6.9\n",
      "preshed                                 3.0.9\n",
      "prometheus_client                       0.21.1\n",
      "prometheus_flask_exporter               0.23.1\n",
      "prompt_toolkit                          3.0.50\n",
      "propcache                               0.2.1\n",
      "proto-plus                              1.26.0\n",
      "protobuf                                4.25.3\n",
      "psutil                                  5.9.8\n",
      "ptyprocess                              0.7.0\n",
      "pure_eval                               0.2.3\n",
      "pure-sasl                               0.6.2\n",
      "py4j                                    0.10.9.9\n",
      "pyarrow                                 17.0.0\n",
      "pyasn1                                  0.6.1\n",
      "pyasn1_modules                          0.4.1\n",
      "PyAthena                                3.12.2\n",
      "pycodestyle                             2.12.1\n",
      "pycosat                                 0.6.6\n",
      "pycparser                               2.22\n",
      "pycrdt                                  0.10.9\n",
      "pycrdt-websocket                        0.15.4\n",
      "pydantic                                2.10.6\n",
      "pydantic_core                           2.27.2\n",
      "pydantic-settings                       2.7.1\n",
      "pydocstyle                              6.3.0\n",
      "pyflakes                                3.2.0\n",
      "Pygments                                2.19.1\n",
      "PyHive                                  0.7.0\n",
      "PyJWT                                   2.10.1\n",
      "pylint                                  3.3.4\n",
      "PyNaCl                                  1.5.0\n",
      "pyOpenSSL                               24.3.0\n",
      "pyparsing                               3.2.1\n",
      "PySocks                                 1.7.1\n",
      "pyspnego                                0.11.2\n",
      "pytesseract                             0.3.10\n",
      "python-dateutil                         2.9.0.post0\n",
      "python-dotenv                           1.0.1\n",
      "python-json-logger                      2.0.7\n",
      "python-lsp-jsonrpc                      1.1.2\n",
      "python-lsp-server                       1.12.0\n",
      "python-multipart                        0.0.20\n",
      "python-slugify                          8.0.4\n",
      "pytoolconfig                            1.2.5\n",
      "pytorch-lightning                       2.5.0.post0\n",
      "pytorch-metric-learning                 2.3.0\n",
      "pytz                                    2024.1\n",
      "pyu2f                                   0.1.5\n",
      "PyWavelets                              1.8.0\n",
      "PyYAML                                  6.0.2\n",
      "pyzmq                                   26.2.0\n",
      "querystring_parser                      1.2.4\n",
      "ray                                     2.37.0\n",
      "redshift_connector                      2.1.5\n",
      "referencing                             0.36.2\n",
      "regex                                   2024.11.6\n",
      "requests                                2.32.3\n",
      "requests-kerberos                       0.15.0\n",
      "requests-toolbelt                       1.0.0\n",
      "responses                               0.18.0\n",
      "retrying                                1.3.3\n",
      "rfc3339_validator                       0.1.4\n",
      "rfc3986-validator                       0.1.1\n",
      "rich                                    13.9.4\n",
      "rich-toolkit                            0.11.3\n",
      "rope                                    1.13.0\n",
      "rpds-py                                 0.22.3\n",
      "rsa                                     4.9\n",
      "ruamel.yaml                             0.18.10\n",
      "ruamel.yaml.clib                        0.2.8\n",
      "s3fs                                    2024.10.0\n",
      "s3transfer                              0.11.2\n",
      "safetensors                             0.5.2\n",
      "sagemaker                               2.228.0\n",
      "sagemaker-headless-execution-driver     0.0.13\n",
      "sagemaker-jupyterlab-emr-extension      0.3.7\n",
      "sagemaker-jupyterlab-extension          0.3.3\n",
      "sagemaker-jupyterlab-extension-common   0.1.33\n",
      "sagemaker-kernel-wrapper                0.0.4\n",
      "sagemaker-mlflow                        0.1.0\n",
      "sagemaker-studio-analytics-extension    0.1.4\n",
      "sagemaker-studio-sparkmagic-lib         0.1.4\n",
      "schema                                  0.7.7\n",
      "scikit-image                            0.20.0\n",
      "scikit-learn                            1.5.2\n",
      "scipy                                   1.15.1\n",
      "scramp                                  1.4.4\n",
      "seaborn                                 0.13.2\n",
      "Send2Trash                              1.8.3\n",
      "sentencepiece                           0.1.99\n",
      "seqeval                                 1.2.2\n",
      "setproctitle                            1.3.4\n",
      "setuptools                              75.8.0\n",
      "shellingham                             1.5.4\n",
      "simpervisor                             1.0.0\n",
      "six                                     1.17.0\n",
      "smart_open                              7.1.0\n",
      "smdebug-rulesconfig                     1.0.1\n",
      "smmap                                   5.0.0\n",
      "sniffio                                 1.3.1\n",
      "snowballstemmer                         2.2.0\n",
      "snowflake-connector-python              3.12.4\n",
      "sortedcontainers                        2.4.0\n",
      "soupsieve                               2.5\n",
      "spacy                                   3.8.2\n",
      "spacy-legacy                            3.0.12\n",
      "spacy-loggers                           1.0.5\n",
      "sparkmagic                              0.21.0\n",
      "SQLAlchemy                              2.0.37\n",
      "sqlite-anyio                            0.2.3\n",
      "sqlparse                                0.5.3\n",
      "srsly                                   2.5.1\n",
      "stack_data                              0.6.3\n",
      "starlette                               0.45.3\n",
      "statsforecast                           1.7.8\n",
      "statsmodels                             0.14.4\n",
      "supervisor                              4.2.5\n",
      "sympy                                   1.13.3\n",
      "tabulate                                0.9.0\n",
      "tblib                                   2.0.0\n",
      "tenacity                                9.0.0\n",
      "tensorboard                             2.17.1\n",
      "tensorboard_data_server                 0.7.0\n",
      "tensorboardX                            2.6.2.2\n",
      "tensorflow                              2.17.0\n",
      "tensorflow_estimator                    2.15.0\n",
      "termcolor                               2.5.0\n",
      "terminado                               0.18.1\n",
      "text-unidecode                          1.3\n",
      "textual                                 1.0.0\n",
      "tf_keras                                2.17.0\n",
      "thinc                                   8.3.2\n",
      "threadpoolctl                           3.5.0\n",
      "thrift                                  0.20.0\n",
      "thrift_sasl                             0.4.3\n",
      "tifffile                                2020.6.3\n",
      "timm                                    1.0.3\n",
      "tinycss2                                1.4.0\n",
      "tokenizers                              0.21.0\n",
      "tomli                                   2.2.1\n",
      "tomlkit                                 0.13.2\n",
      "toolz                                   0.12.1\n",
      "torch                                   2.4.1.post100\n",
      "torchmetrics                            1.2.1\n",
      "torchvision                             0.19.1\n",
      "tornado                                 6.4.2\n",
      "tqdm                                    4.67.1\n",
      "traitlets                               5.14.3\n",
      "transformers                            4.48.1\n",
      "triad                                   0.9.8\n",
      "truststore                              0.10.0\n",
      "typer                                   0.15.1\n",
      "typer-slim                              0.15.1\n",
      "types-python-dateutil                   2.9.0.20241206\n",
      "typing_extensions                       4.12.2\n",
      "typing_inspect                          0.9.0\n",
      "typing_utils                            0.1.0\n",
      "tzdata                                  2025.1\n",
      "uc-micro-py                             1.0.3\n",
      "ujson                                   5.10.0\n",
      "unicodedata2                            16.0.0\n",
      "uri-template                            1.3.0\n",
      "urllib3                                 1.26.19\n",
      "utilsforecast                           0.2.3\n",
      "uvicorn                                 0.34.0\n",
      "uvloop                                  0.21.0\n",
      "virtualenv                              20.29.1\n",
      "wasabi                                  1.1.2\n",
      "watchfiles                              0.24.0\n",
      "wcwidth                                 0.2.13\n",
      "weasel                                  0.4.1\n",
      "webcolors                               24.11.1\n",
      "webencodings                            0.5.1\n",
      "websocket-client                        1.8.0\n",
      "websockets                              14.2\n",
      "Werkzeug                                3.1.3\n",
      "whatthepatch                            1.0.7\n",
      "wheel                                   0.45.1\n",
      "widgetsnbextension                      4.0.13\n",
      "window_ops                              0.0.15\n",
      "wrapt                                   1.17.2\n",
      "xgboost                                 2.1.3\n",
      "xxhash                                  3.5.0\n",
      "y-py                                    0.6.2\n",
      "yapf                                    0.43.0\n",
      "yarl                                    1.18.3\n",
      "ypy-websocket                           0.12.4\n",
      "zict                                    3.0.0\n",
      "zipp                                    3.21.0\n",
      "zstandard                               0.23.0\n"
     ]
    }
   ],
   "source": [
    "!pip list"
   ]
  },
  {
   "cell_type": "markdown",
   "metadata": {},
   "source": [
    "## Package Installs"
   ]
  },
  {
   "cell_type": "code",
   "execution_count": 3,
   "metadata": {},
   "outputs": [
    {
     "name": "stdout",
     "output_type": "stream",
     "text": [
      "\u001b[31mERROR: pip's dependency resolver does not currently take into account all the packages that are installed. This behaviour is the source of the following dependency conflicts.\n",
      "aiobotocore 2.19.0 requires botocore<1.36.4,>=1.36.0, but you have botocore 1.36.16 which is incompatible.\u001b[0m\u001b[31m\n",
      "\u001b[0m"
     ]
    }
   ],
   "source": [
    "!pip install --disable-pip-version-check -q pip --upgrade > /dev/null\n",
    "!pip install --disable-pip-version-check -q wrapt --upgrade > /dev/null\n",
    "!pip install --disable-pip-version-check -q awscli boto3"
   ]
  },
  {
   "cell_type": "code",
   "execution_count": 4,
   "metadata": {
    "tags": []
   },
   "outputs": [],
   "source": [
    "!pip install --disable-pip-version-check -q sagemaker\n",
    "!pip install --disable-pip-version-check -q smdebug\n",
    "!pip install --disable-pip-version-check -q sagemaker-experiments"
   ]
  },
  {
   "cell_type": "code",
   "execution_count": 5,
   "metadata": {
    "tags": []
   },
   "outputs": [],
   "source": [
    "!pip install --disable-pip-version-check -q PyAthena"
   ]
  },
  {
   "cell_type": "code",
   "execution_count": 6,
   "metadata": {
    "tags": []
   },
   "outputs": [],
   "source": [
    "!pip install --disable-pip-version-check -q awswrangler"
   ]
  },
  {
   "cell_type": "code",
   "execution_count": 7,
   "metadata": {
    "tags": []
   },
   "outputs": [
    {
     "name": "stdout",
     "output_type": "stream",
     "text": [
      "Channels:\n",
      " - conda-forge\n",
      "Platform: linux-64\n",
      "Collecting package metadata (repodata.json): done\n",
      "Solving environment: | "
     ]
    }
   ],
   "source": [
    "!conda install -y zip"
   ]
  },
  {
   "cell_type": "code",
   "execution_count": 8,
   "metadata": {
    "tags": []
   },
   "outputs": [],
   "source": [
    "!pip install --disable-pip-version-check -q matplotlib"
   ]
  },
  {
   "cell_type": "code",
   "execution_count": 9,
   "metadata": {
    "tags": []
   },
   "outputs": [],
   "source": [
    "!pip install --disable-pip-version-check -q seaborn"
   ]
  },
  {
   "cell_type": "code",
   "execution_count": 10,
   "metadata": {},
   "outputs": [],
   "source": [
    "packages_installed = True"
   ]
  },
  {
   "cell_type": "code",
   "execution_count": 11,
   "metadata": {},
   "outputs": [
    {
     "name": "stdout",
     "output_type": "stream",
     "text": [
      "Stored 'packages_installed' (bool)\n"
     ]
    }
   ],
   "source": [
    "%store packages_installed"
   ]
  },
  {
   "cell_type": "code",
   "execution_count": 12,
   "metadata": {},
   "outputs": [
    {
     "name": "stdout",
     "output_type": "stream",
     "text": [
      "Stored variables and their in-db values:\n",
      "packages_installed             -> True\n"
     ]
    }
   ],
   "source": [
    "%store"
   ]
  },
  {
   "cell_type": "markdown",
   "metadata": {},
   "source": [
    "# 2. Create S3 Bucket"
   ]
  },
  {
   "cell_type": "code",
   "execution_count": 20,
   "metadata": {},
   "outputs": [],
   "source": [
    "import boto3\n",
    "import sagemaker\n",
    "\n",
    "session = boto3.session.Session()\n",
    "region = session.region_name\n",
    "sagemaker_session = sagemaker.Session()\n",
    "bucket = sagemaker_session.default_bucket()\n",
    "role = sagemaker.get_execution_role()\n",
    "account_id = boto3.client(\"sts\").get_caller_identity().get(\"Account\")\n",
    "\n",
    "s3 = boto3.Session().client(service_name=\"s3\", region_name=region)"
   ]
  },
  {
   "cell_type": "code",
   "execution_count": 14,
   "metadata": {},
   "outputs": [
    {
     "name": "stdout",
     "output_type": "stream",
     "text": [
      "Default bucket: sagemaker-us-east-1-607916531205\n"
     ]
    }
   ],
   "source": [
    "setup_s3_bucket_passed = False\n",
    "\n",
    "print(\"Default bucket: {}\".format(bucket))"
   ]
  },
  {
   "cell_type": "code",
   "execution_count": 16,
   "metadata": {},
   "outputs": [
    {
     "name": "stdout",
     "output_type": "stream",
     "text": [
      "{'ResponseMetadata': {'RequestId': 'E78QBVP8R8PFGHAZ', 'HostId': 'gDfkPlWNfWIBrhp9yIZfkScKaB+HQVTCwsjeCCa9bsFrGbGXuSN0saAVooFDw1uBTDMeguQNqtSSnG4U2bS8anvdKVz//tXc', 'HTTPStatusCode': 200, 'HTTPHeaders': {'x-amz-id-2': 'gDfkPlWNfWIBrhp9yIZfkScKaB+HQVTCwsjeCCa9bsFrGbGXuSN0saAVooFDw1uBTDMeguQNqtSSnG4U2bS8anvdKVz//tXc', 'x-amz-request-id': 'E78QBVP8R8PFGHAZ', 'date': 'Sat, 08 Feb 2025 18:42:49 GMT', 'x-amz-bucket-region': 'us-east-1', 'x-amz-access-point-alias': 'false', 'content-type': 'application/xml', 'transfer-encoding': 'chunked', 'server': 'AmazonS3'}, 'RetryAttempts': 0}, 'BucketRegion': 'us-east-1', 'AccessPointAlias': False}\n",
      "Stored 'setup_s3_bucket_passed' (bool)\n"
     ]
    }
   ],
   "source": [
    "from botocore.client import ClientError\n",
    "\n",
    "response = None\n",
    "\n",
    "try:\n",
    "    response = s3.head_bucket(Bucket=bucket)\n",
    "    print(response)\n",
    "    setup_s3_bucket_passed = True\n",
    "except ClientError as e:\n",
    "    print(\"[ERROR] Cannot find bucket {} in {} due to {}.\".format(bucket, response, e))\n",
    "\n",
    "%store setup_s3_bucket_passed"
   ]
  },
  {
   "cell_type": "markdown",
   "metadata": {},
   "source": [
    "## Verify S3 Bucket Creation"
   ]
  },
  {
   "cell_type": "code",
   "execution_count": 17,
   "metadata": {},
   "outputs": [
    {
     "name": "stdout",
     "output_type": "stream",
     "text": [
      "Stored variables and their in-db values:\n",
      "packages_installed                 -> True\n",
      "setup_s3_bucket_passed             -> True\n"
     ]
    }
   ],
   "source": [
    "%store"
   ]
  },
  {
   "cell_type": "markdown",
   "metadata": {},
   "source": [
    "# 3. Copy CSV to S3 Bucket"
   ]
  },
  {
   "cell_type": "code",
   "execution_count": 19,
   "metadata": {},
   "outputs": [],
   "source": [
    "%store -r packages_installed\n",
    "\n",
    "try:\n",
    "    packages_installed\n",
    "except NameError:\n",
    "    print(\"+++++++++++++++++++++++++++++++\")\n",
    "    print(\"[ERROR] Package Installation Incomplete.\")\n",
    "    print(\"+++++++++++++++++++++++++++++++\")\n",
    "\n",
    "%store -r setup_s3_bucket_passed\n",
    "\n",
    "try:\n",
    "    setup_s3_bucket_passed\n",
    "except NameError:\n",
    "    print(\"+++++++++++++++++++++++++++++++\")\n",
    "    print(\"[ERROR] S3 bucket not initilized\")\n",
    "    print(\"+++++++++++++++++++++++++++++++\")"
   ]
  },
  {
   "cell_type": "code",
   "execution_count": 21,
   "metadata": {},
   "outputs": [
    {
     "name": "stdout",
     "output_type": "stream",
     "text": [
      "s3://sagemaker-us-east-1-607916531205/airline-delay-cause/csv\n"
     ]
    }
   ],
   "source": [
    "s3_csv_private_path = \"s3://{}/airline-delay-cause/csv\".format(bucket)\n",
    "print(s3_csv_private_path)"
   ]
  },
  {
   "cell_type": "code",
   "execution_count": 23,
   "metadata": {},
   "outputs": [
    {
     "name": "stdout",
     "output_type": "stream",
     "text": [
      "upload: data/Airline_Delay_Cause.csv.gz to s3://sagemaker-us-east-1-607916531205/airline-delay-cause/csv/Airline_Delay_Cause.csv.gz\n",
      "2025-02-08 18:52:07    9970955 Airline_Delay_Cause.csv.gz\n"
     ]
    }
   ],
   "source": [
    "!aws s3 cp \"data/Airline_Delay_Cause.csv.gz\" $s3_csv_private_path/\n",
    "!aws s3 ls $s3_csv_private_path/"
   ]
  },
  {
   "cell_type": "code",
   "execution_count": 24,
   "metadata": {},
   "outputs": [
    {
     "name": "stdout",
     "output_type": "stream",
     "text": [
      "Stored 's3_csv_private_path' (str)\n"
     ]
    }
   ],
   "source": [
    "%store s3_csv_private_path"
   ]
  },
  {
   "cell_type": "markdown",
   "metadata": {},
   "source": [
    "# 4. Create Athena Database Schema"
   ]
  },
  {
   "cell_type": "code",
   "execution_count": 25,
   "metadata": {},
   "outputs": [],
   "source": [
    "create_base_csv_athena_db = False\n",
    "\n",
    "%store -r s3_csv_private_path\n",
    "\n",
    "try:\n",
    "    s3_csv_private_path\n",
    "except NameError:\n",
    "    print(\"*****************************************************************************\")\n",
    "    print(\"[ERROR] CSV not copied into S3 Bucket\")\n",
    "    print(\"*****************************************************************************\")"
   ]
  },
  {
   "cell_type": "code",
   "execution_count": 30,
   "metadata": {},
   "outputs": [
    {
     "name": "stdout",
     "output_type": "stream",
     "text": [
      "Database db_airline_delay_cause created successfully (if it did not already exist).\n"
     ]
    }
   ],
   "source": [
    "from pyathena import connect\n",
    "import pandas as pd\n",
    "\n",
    "database_name = \"db_airline_delay_cause\"\n",
    "\n",
    "# Set S3 staging directory -- this is a temporary directory used for Athena queries\n",
    "s3_staging_dir = \"s3://{0}/athena/staging\".format(bucket)\n",
    "\n",
    "# Connect to Athena\n",
    "conn = connect(region_name=region, s3_staging_dir=s3_staging_dir)\n",
    "\n",
    "# Create a cursor object\n",
    "cursor = conn.cursor()\n",
    "\n",
    "# Execute the query\n",
    "statement = f\"CREATE DATABASE IF NOT EXISTS {database_name}\"\n",
    "cursor.execute(statement)\n",
    "\n",
    "print(f\"Database {database_name} created successfully (if it did not already exist).\")\n"
   ]
  },
  {
   "cell_type": "markdown",
   "metadata": {},
   "source": [
    "## Verify Successful Database Creation"
   ]
  },
  {
   "cell_type": "code",
   "execution_count": 33,
   "metadata": {},
   "outputs": [
    {
     "name": "stdout",
     "output_type": "stream",
     "text": [
      "            database_name\n",
      "0  db_airline_delay_cause\n",
      "1                 default\n",
      "2                  dsoaws\n",
      "3                  hw2_db\n",
      "4  sagemaker_featurestore\n",
      "Stored 'create_base_csv_athena_db' (bool)\n"
     ]
    }
   ],
   "source": [
    "# Execute the query\n",
    "statement = \"SHOW DATABASES\"\n",
    "cursor.execute(statement)\n",
    "\n",
    "# Fetch results and convert to DataFrame\n",
    "df_show = pd.DataFrame(cursor.fetchall(), columns=[\"database_name\"])\n",
    "\n",
    "# Display first 5 rows\n",
    "print(df_show.head(5))\n",
    "\n",
    "# Check if database exists\n",
    "create_base_csv_athena_db = database_name in df_show[\"database_name\"].values\n",
    "\n",
    "%store create_base_csv_athena_db\n"
   ]
  },
  {
   "cell_type": "markdown",
   "metadata": {},
   "source": [
    "# 5. Register S3 CSV with Athena"
   ]
  },
  {
   "cell_type": "code",
   "execution_count": 34,
   "metadata": {},
   "outputs": [],
   "source": [
    "create_base_csv_athena_table = False\n",
    "\n",
    "%store -r create_base_csv_athena_db\n",
    "\n",
    "try:\n",
    "    create_base_csv_athena_db\n",
    "except NameError:\n",
    "    print(\"++++++++++++++++++++++++++++++++++++++++++++++\")\n",
    "    print(\"[ERROR] Athena DB was not created\")\n",
    "    print(\"++++++++++++++++++++++++++++++++++++++++++++++\")"
   ]
  },
  {
   "cell_type": "code",
   "execution_count": 35,
   "metadata": {},
   "outputs": [
    {
     "name": "stdout",
     "output_type": "stream",
     "text": [
      "s3://sagemaker-us-east-1-607916531205/airline-delay-cause/csv\n"
     ]
    }
   ],
   "source": [
    "%store -r s3_csv_private_path\n",
    "print(s3_csv_private_path)"
   ]
  },
  {
   "cell_type": "markdown",
   "metadata": {},
   "source": [
    "#### Dataset columns\n",
    "- `year`: YYYY format\n",
    "- `month`: MM format (1-12)\n",
    "- `carrier`: Code assigned by assigned by US DOT to identify a unique airline carrier.  \n",
    "- `carrier_name`: Unique airline (carrier) is defined as one holding and reporting under the same DOT certificate regardless of its Code, Name, or holding company/corporation.\n",
    "- `airport`: A three character alpha-numeric code issued by the U.S. Department of Transportation which is the official designation of the airport.\n",
    "- `airport_name`: a place from which aircraft operate that usually has paved runways and maintenance facilities and often serves as a terminal\n",
    "- `arr_flights`: Arrival Flights\n",
    "- `arr_del15`: Arrival Delay Indicator, 15 Minutes or More Arrival delay equals the difference of the actual arrival time minus the scheduled arrival time. A flight is considered on-time when it arrives less than 15 minutes after its published arrival time.\n",
    "- `carrier_ct`:\tCarrier Count for airline cause of delay\n",
    "- `weather_ct`:\tWeather Count for airline cause of delay\n",
    "- `nas_ct`:\tNAS (National Air System) Count for airline cause of delay\n",
    "- `security_ct`: Security County for airline cause of delay\n",
    "- `late_aircraft_ct`: Late Aircraft Delay Count for airline cause of delay\n",
    "- `arr_cancelled`: flight cancelled\n",
    "- `arr_diverted`: flight diverted\n",
    "- `arr_delay`: Difference in minutes between scheduled and actual arrival time. Early arrivals show negative numbers.\n",
    "- `carrier_delay`: Carrier Delay, in Minutes\n",
    "- `weather_delay`: Weather Delay, in Minutes\n",
    "- `nas_delay`: National Air System Delay, in Minutes\n",
    "- `security_delay`: Security Delay, in Minutes\n",
    "- `late_aircraft_delay`: Late Aircraft Delay, in Minutes\n",
    "\n"
   ]
  },
  {
   "cell_type": "code",
   "execution_count": 42,
   "metadata": {},
   "outputs": [],
   "source": [
    "from pyathena import connect\n",
    "import pandas as pd\n",
    "\n",
    "# Set S3 staging directory -- this is a temporary directory used for Athena queries\n",
    "s3_staging_dir = \"s3://{0}/athena/staging\".format(bucket)\n",
    "\n",
    "# Set Athena parameters\n",
    "database_name = \"db_airline_delay_cause\"\n",
    "raw_table_name = \"airline_delay_cause_csv_raw\"\n",
    "\n",
    "conn = connect(region_name=region, s3_staging_dir=s3_staging_dir)"
   ]
  },
  {
   "cell_type": "code",
   "execution_count": 43,
   "metadata": {},
   "outputs": [
    {
     "name": "stdout",
     "output_type": "stream",
     "text": [
      "CREATE EXTERNAL TABLE IF NOT EXISTS db_airline_delay_cause.airline_delay_cause_csv_raw(\n",
      "         year int,\n",
      "         month int,\n",
      "         carrier string,\n",
      "         airport string,\n",
      "         arr_flights int,\n",
      "         arr_del15 int,\n",
      "         carrier_ct float,\n",
      "         weather_ct float,\n",
      "         nas_ct float,\n",
      "         security_ct float,\n",
      "         late_aircraft_ct float,\n",
      "         arr_cancelled int,\n",
      "         arr_diverted int,\n",
      "         arr_delay int,\n",
      "         carrier_delay int,\n",
      "         weather_delay int,\n",
      "         nas_delay int,\n",
      "         security_delay int,\n",
      "         late_aircraft_delay int\n",
      ") ROW FORMAT DELIMITED FIELDS TERMINATED BY ',' LINES TERMINATED BY '\\n' LOCATION 's3://sagemaker-us-east-1-607916531205/airline-delay-cause/csv'\n",
      "TBLPROPERTIES ('compressionType'='gzip', 'skip.header.line.count'='1')\n"
     ]
    },
    {
     "name": "stderr",
     "output_type": "stream",
     "text": [
      "/tmp/ipykernel_760/731012237.py:29: UserWarning: pandas only supports SQLAlchemy connectable (engine/connection) or database string URI or sqlite3 DBAPI2 connection. Other DBAPI2 objects are not tested. Please consider using SQLAlchemy.\n",
      "  pd.read_sql(statement, conn)\n"
     ]
    },
    {
     "data": {
      "text/html": [
       "<div>\n",
       "<style scoped>\n",
       "    .dataframe tbody tr th:only-of-type {\n",
       "        vertical-align: middle;\n",
       "    }\n",
       "\n",
       "    .dataframe tbody tr th {\n",
       "        vertical-align: top;\n",
       "    }\n",
       "\n",
       "    .dataframe thead th {\n",
       "        text-align: right;\n",
       "    }\n",
       "</style>\n",
       "<table border=\"1\" class=\"dataframe\">\n",
       "  <thead>\n",
       "    <tr style=\"text-align: right;\">\n",
       "      <th></th>\n",
       "    </tr>\n",
       "  </thead>\n",
       "  <tbody>\n",
       "  </tbody>\n",
       "</table>\n",
       "</div>"
      ],
      "text/plain": [
       "Empty DataFrame\n",
       "Columns: []\n",
       "Index: []"
      ]
     },
     "execution_count": 43,
     "metadata": {},
     "output_type": "execute_result"
    }
   ],
   "source": [
    "# SQL statement to execute\n",
    "statement = \"\"\"CREATE EXTERNAL TABLE IF NOT EXISTS {}.{}(\n",
    "         year int,\n",
    "         month int,\n",
    "         carrier string,\n",
    "         airport string,\n",
    "         arr_flights int,\n",
    "         arr_del15 int,\n",
    "         carrier_ct float,\n",
    "         weather_ct float,\n",
    "         nas_ct float,\n",
    "         security_ct float,\n",
    "         late_aircraft_ct float,\n",
    "         arr_cancelled int,\n",
    "         arr_diverted int,\n",
    "         arr_delay int,\n",
    "         carrier_delay int,\n",
    "         weather_delay int,\n",
    "         nas_delay int,\n",
    "         security_delay int,\n",
    "         late_aircraft_delay int\n",
    ") ROW FORMAT DELIMITED FIELDS TERMINATED BY ',' LINES TERMINATED BY '\\\\n' LOCATION '{}'\n",
    "TBLPROPERTIES ('compressionType'='gzip', 'skip.header.line.count'='1')\"\"\".format(\n",
    "    database_name, raw_table_name, s3_csv_private_path\n",
    ")\n",
    "\n",
    "print(statement)\n",
    "\n",
    "pd.read_sql(statement, conn)"
   ]
  },
  {
   "cell_type": "markdown",
   "metadata": {},
   "source": [
    "## Verify Table Creation"
   ]
  },
  {
   "cell_type": "code",
   "execution_count": 47,
   "metadata": {},
   "outputs": [
    {
     "name": "stderr",
     "output_type": "stream",
     "text": [
      "/tmp/ipykernel_760/2854214392.py:3: UserWarning: pandas only supports SQLAlchemy connectable (engine/connection) or database string URI or sqlite3 DBAPI2 connection. Other DBAPI2 objects are not tested. Please consider using SQLAlchemy.\n",
      "  df_show = pd.read_sql(statement, conn)\n"
     ]
    },
    {
     "name": "stdout",
     "output_type": "stream",
     "text": [
      "                      tab_name\n",
      "0      airline_delay_cause_csv\n",
      "1  airline_delay_cause_csv_raw\n",
      "2             development_data\n",
      "3              production_data\n",
      "Stored 'create_base_csv_athena_table' (bool)\n"
     ]
    }
   ],
   "source": [
    "statement = \"SHOW TABLES in {}\".format(database_name)\n",
    "\n",
    "df_show = pd.read_sql(statement, conn)\n",
    "print(df_show.head(5))\n",
    "\n",
    "if raw_table_name in df_show.values:\n",
    "    create_base_csv_athena_table = True\n",
    "\n",
    "%store create_base_csv_athena_table"
   ]
  },
  {
   "cell_type": "markdown",
   "metadata": {},
   "source": [
    "## Run a Sample Query"
   ]
  },
  {
   "cell_type": "code",
   "execution_count": 50,
   "metadata": {},
   "outputs": [
    {
     "name": "stdout",
     "output_type": "stream",
     "text": [
      "SELECT * FROM db_airline_delay_cause.airline_delay_cause_csv_raw\n",
      "    WHERE carrier = '9E' LIMIT 100\n"
     ]
    },
    {
     "name": "stderr",
     "output_type": "stream",
     "text": [
      "/tmp/ipykernel_760/1806028933.py:10: UserWarning: pandas only supports SQLAlchemy connectable (engine/connection) or database string URI or sqlite3 DBAPI2 connection. Other DBAPI2 objects are not tested. Please consider using SQLAlchemy.\n",
      "  df = pd.read_sql(statement, conn)\n"
     ]
    },
    {
     "data": {
      "text/html": [
       "<div>\n",
       "<style scoped>\n",
       "    .dataframe tbody tr th:only-of-type {\n",
       "        vertical-align: middle;\n",
       "    }\n",
       "\n",
       "    .dataframe tbody tr th {\n",
       "        vertical-align: top;\n",
       "    }\n",
       "\n",
       "    .dataframe thead th {\n",
       "        text-align: right;\n",
       "    }\n",
       "</style>\n",
       "<table border=\"1\" class=\"dataframe\">\n",
       "  <thead>\n",
       "    <tr style=\"text-align: right;\">\n",
       "      <th></th>\n",
       "      <th>year</th>\n",
       "      <th>month</th>\n",
       "      <th>carrier</th>\n",
       "      <th>airport</th>\n",
       "      <th>arr_flights</th>\n",
       "      <th>arr_del15</th>\n",
       "      <th>carrier_ct</th>\n",
       "      <th>weather_ct</th>\n",
       "      <th>nas_ct</th>\n",
       "      <th>security_ct</th>\n",
       "      <th>late_aircraft_ct</th>\n",
       "      <th>arr_cancelled</th>\n",
       "      <th>arr_diverted</th>\n",
       "      <th>arr_delay</th>\n",
       "      <th>carrier_delay</th>\n",
       "      <th>weather_delay</th>\n",
       "      <th>nas_delay</th>\n",
       "      <th>security_delay</th>\n",
       "      <th>late_aircraft_delay</th>\n",
       "    </tr>\n",
       "  </thead>\n",
       "  <tbody>\n",
       "    <tr>\n",
       "      <th>0</th>\n",
       "      <td>2024</td>\n",
       "      <td>9</td>\n",
       "      <td>9E</td>\n",
       "      <td>ABE</td>\n",
       "      <td>81</td>\n",
       "      <td>7</td>\n",
       "      <td>5.61</td>\n",
       "      <td>0.56</td>\n",
       "      <td>0.84</td>\n",
       "      <td>0.0</td>\n",
       "      <td>0.00</td>\n",
       "      <td>0</td>\n",
       "      <td>0</td>\n",
       "      <td>243</td>\n",
       "      <td>201</td>\n",
       "      <td>15</td>\n",
       "      <td>27</td>\n",
       "      <td>0</td>\n",
       "      <td>0</td>\n",
       "    </tr>\n",
       "    <tr>\n",
       "      <th>1</th>\n",
       "      <td>2024</td>\n",
       "      <td>9</td>\n",
       "      <td>9E</td>\n",
       "      <td>AEX</td>\n",
       "      <td>81</td>\n",
       "      <td>6</td>\n",
       "      <td>4.43</td>\n",
       "      <td>0.00</td>\n",
       "      <td>1.13</td>\n",
       "      <td>0.0</td>\n",
       "      <td>0.44</td>\n",
       "      <td>0</td>\n",
       "      <td>0</td>\n",
       "      <td>647</td>\n",
       "      <td>440</td>\n",
       "      <td>0</td>\n",
       "      <td>189</td>\n",
       "      <td>0</td>\n",
       "      <td>18</td>\n",
       "    </tr>\n",
       "    <tr>\n",
       "      <th>2</th>\n",
       "      <td>2024</td>\n",
       "      <td>9</td>\n",
       "      <td>9E</td>\n",
       "      <td>AGS</td>\n",
       "      <td>133</td>\n",
       "      <td>12</td>\n",
       "      <td>3.49</td>\n",
       "      <td>2.04</td>\n",
       "      <td>3.84</td>\n",
       "      <td>0.0</td>\n",
       "      <td>2.63</td>\n",
       "      <td>10</td>\n",
       "      <td>0</td>\n",
       "      <td>2382</td>\n",
       "      <td>1269</td>\n",
       "      <td>594</td>\n",
       "      <td>167</td>\n",
       "      <td>0</td>\n",
       "      <td>352</td>\n",
       "    </tr>\n",
       "    <tr>\n",
       "      <th>3</th>\n",
       "      <td>2024</td>\n",
       "      <td>9</td>\n",
       "      <td>9E</td>\n",
       "      <td>ALB</td>\n",
       "      <td>73</td>\n",
       "      <td>4</td>\n",
       "      <td>0.82</td>\n",
       "      <td>1.00</td>\n",
       "      <td>0.23</td>\n",
       "      <td>0.0</td>\n",
       "      <td>1.95</td>\n",
       "      <td>0</td>\n",
       "      <td>0</td>\n",
       "      <td>160</td>\n",
       "      <td>28</td>\n",
       "      <td>15</td>\n",
       "      <td>9</td>\n",
       "      <td>0</td>\n",
       "      <td>108</td>\n",
       "    </tr>\n",
       "    <tr>\n",
       "      <th>4</th>\n",
       "      <td>2024</td>\n",
       "      <td>9</td>\n",
       "      <td>9E</td>\n",
       "      <td>ATL</td>\n",
       "      <td>2204</td>\n",
       "      <td>280</td>\n",
       "      <td>61.70</td>\n",
       "      <td>17.36</td>\n",
       "      <td>88.36</td>\n",
       "      <td>0.0</td>\n",
       "      <td>112.57</td>\n",
       "      <td>40</td>\n",
       "      <td>4</td>\n",
       "      <td>24383</td>\n",
       "      <td>7840</td>\n",
       "      <td>2297</td>\n",
       "      <td>3690</td>\n",
       "      <td>0</td>\n",
       "      <td>10556</td>\n",
       "    </tr>\n",
       "  </tbody>\n",
       "</table>\n",
       "</div>"
      ],
      "text/plain": [
       "   year  month carrier airport  arr_flights  arr_del15  carrier_ct  \\\n",
       "0  2024      9      9E     ABE           81          7        5.61   \n",
       "1  2024      9      9E     AEX           81          6        4.43   \n",
       "2  2024      9      9E     AGS          133         12        3.49   \n",
       "3  2024      9      9E     ALB           73          4        0.82   \n",
       "4  2024      9      9E     ATL         2204        280       61.70   \n",
       "\n",
       "   weather_ct  nas_ct  security_ct  late_aircraft_ct  arr_cancelled  \\\n",
       "0        0.56    0.84          0.0              0.00              0   \n",
       "1        0.00    1.13          0.0              0.44              0   \n",
       "2        2.04    3.84          0.0              2.63             10   \n",
       "3        1.00    0.23          0.0              1.95              0   \n",
       "4       17.36   88.36          0.0            112.57             40   \n",
       "\n",
       "   arr_diverted  arr_delay  carrier_delay  weather_delay  nas_delay  \\\n",
       "0             0        243            201             15         27   \n",
       "1             0        647            440              0        189   \n",
       "2             0       2382           1269            594        167   \n",
       "3             0        160             28             15          9   \n",
       "4             4      24383           7840           2297       3690   \n",
       "\n",
       "   security_delay  late_aircraft_delay  \n",
       "0               0                    0  \n",
       "1               0                   18  \n",
       "2               0                  352  \n",
       "3               0                  108  \n",
       "4               0                10556  "
      ]
     },
     "execution_count": 50,
     "metadata": {},
     "output_type": "execute_result"
    }
   ],
   "source": [
    "carrier = \"9E\"\n",
    "\n",
    "statement = \"\"\"SELECT * FROM {}.{}\n",
    "    WHERE carrier = '{}' LIMIT 100\"\"\".format(\n",
    "    database_name, table_name_tsv, carrier\n",
    ")\n",
    "\n",
    "print(statement)\n",
    "\n",
    "df = pd.read_sql(statement, conn)\n",
    "df.head(5)"
   ]
  },
  {
   "cell_type": "code",
   "execution_count": 51,
   "metadata": {},
   "outputs": [
    {
     "name": "stdout",
     "output_type": "stream",
     "text": [
      "Stored variables and their in-db values:\n",
      "create_base_csv_athena_db                -> True\n",
      "create_base_csv_athena_table             -> True\n",
      "packages_installed                       -> True\n",
      "s3_csv_private_path                      -> 's3://sagemaker-us-east-1-607916531205/airline-del\n",
      "setup_s3_bucket_passed                   -> True\n"
     ]
    }
   ],
   "source": [
    "%store"
   ]
  },
  {
   "cell_type": "code",
   "execution_count": 52,
   "metadata": {},
   "outputs": [
    {
     "data": {
      "text/html": [
       "\n",
       "<p><b>Shutting down your kernel for this notebook to release resources.</b></p>\n",
       "<button class=\"sm-command-button\" data-commandlinker-command=\"kernelmenu:shutdown\" style=\"display:none;\">Shutdown Kernel</button>\n",
       "        \n",
       "<script>\n",
       "try {\n",
       "    els = document.getElementsByClassName(\"sm-command-button\");\n",
       "    els[0].click();\n",
       "}\n",
       "catch(err) {\n",
       "    // NoOp\n",
       "}    \n",
       "</script>\n"
      ],
      "text/plain": [
       "<IPython.core.display.HTML object>"
      ]
     },
     "metadata": {},
     "output_type": "display_data"
    }
   ],
   "source": [
    "%%html\n",
    "\n",
    "<p><b>Shutting down your kernel for this notebook to release resources.</b></p>\n",
    "<button class=\"sm-command-button\" data-commandlinker-command=\"kernelmenu:shutdown\" style=\"display:none;\">Shutdown Kernel</button>\n",
    "        \n",
    "<script>\n",
    "try {\n",
    "    els = document.getElementsByClassName(\"sm-command-button\");\n",
    "    els[0].click();\n",
    "}\n",
    "catch(err) {\n",
    "    // NoOp\n",
    "}    \n",
    "</script>"
   ]
  },
  {
   "cell_type": "code",
   "execution_count": 1,
   "metadata": {},
   "outputs": [
    {
     "data": {
      "application/javascript": [
       "\n",
       "try {\n",
       "    Jupyter.notebook.save_checkpoint();\n",
       "    Jupyter.notebook.session.delete();\n",
       "}\n",
       "catch(err) {\n",
       "    // NoOp\n",
       "}\n"
      ],
      "text/plain": [
       "<IPython.core.display.Javascript object>"
      ]
     },
     "metadata": {},
     "output_type": "display_data"
    }
   ],
   "source": [
    "%%javascript\n",
    "\n",
    "try {\n",
    "    Jupyter.notebook.save_checkpoint();\n",
    "    Jupyter.notebook.session.delete();\n",
    "}\n",
    "catch(err) {\n",
    "    // NoOp\n",
    "}"
   ]
  },
  {
   "cell_type": "code",
   "execution_count": null,
   "metadata": {},
   "outputs": [],
   "source": []
  }
 ],
 "metadata": {
  "availableInstances": [
   {
    "_defaultOrder": 0,
    "_isFastLaunch": true,
    "category": "General purpose",
    "gpuNum": 0,
    "hideHardwareSpecs": false,
    "memoryGiB": 4,
    "name": "ml.t3.medium",
    "vcpuNum": 2
   },
   {
    "_defaultOrder": 1,
    "_isFastLaunch": false,
    "category": "General purpose",
    "gpuNum": 0,
    "hideHardwareSpecs": false,
    "memoryGiB": 8,
    "name": "ml.t3.large",
    "vcpuNum": 2
   },
   {
    "_defaultOrder": 2,
    "_isFastLaunch": false,
    "category": "General purpose",
    "gpuNum": 0,
    "hideHardwareSpecs": false,
    "memoryGiB": 16,
    "name": "ml.t3.xlarge",
    "vcpuNum": 4
   },
   {
    "_defaultOrder": 3,
    "_isFastLaunch": false,
    "category": "General purpose",
    "gpuNum": 0,
    "hideHardwareSpecs": false,
    "memoryGiB": 32,
    "name": "ml.t3.2xlarge",
    "vcpuNum": 8
   },
   {
    "_defaultOrder": 4,
    "_isFastLaunch": true,
    "category": "General purpose",
    "gpuNum": 0,
    "hideHardwareSpecs": false,
    "memoryGiB": 8,
    "name": "ml.m5.large",
    "vcpuNum": 2
   },
   {
    "_defaultOrder": 5,
    "_isFastLaunch": false,
    "category": "General purpose",
    "gpuNum": 0,
    "hideHardwareSpecs": false,
    "memoryGiB": 16,
    "name": "ml.m5.xlarge",
    "vcpuNum": 4
   },
   {
    "_defaultOrder": 6,
    "_isFastLaunch": false,
    "category": "General purpose",
    "gpuNum": 0,
    "hideHardwareSpecs": false,
    "memoryGiB": 32,
    "name": "ml.m5.2xlarge",
    "vcpuNum": 8
   },
   {
    "_defaultOrder": 7,
    "_isFastLaunch": false,
    "category": "General purpose",
    "gpuNum": 0,
    "hideHardwareSpecs": false,
    "memoryGiB": 64,
    "name": "ml.m5.4xlarge",
    "vcpuNum": 16
   },
   {
    "_defaultOrder": 8,
    "_isFastLaunch": false,
    "category": "General purpose",
    "gpuNum": 0,
    "hideHardwareSpecs": false,
    "memoryGiB": 128,
    "name": "ml.m5.8xlarge",
    "vcpuNum": 32
   },
   {
    "_defaultOrder": 9,
    "_isFastLaunch": false,
    "category": "General purpose",
    "gpuNum": 0,
    "hideHardwareSpecs": false,
    "memoryGiB": 192,
    "name": "ml.m5.12xlarge",
    "vcpuNum": 48
   },
   {
    "_defaultOrder": 10,
    "_isFastLaunch": false,
    "category": "General purpose",
    "gpuNum": 0,
    "hideHardwareSpecs": false,
    "memoryGiB": 256,
    "name": "ml.m5.16xlarge",
    "vcpuNum": 64
   },
   {
    "_defaultOrder": 11,
    "_isFastLaunch": false,
    "category": "General purpose",
    "gpuNum": 0,
    "hideHardwareSpecs": false,
    "memoryGiB": 384,
    "name": "ml.m5.24xlarge",
    "vcpuNum": 96
   },
   {
    "_defaultOrder": 12,
    "_isFastLaunch": false,
    "category": "General purpose",
    "gpuNum": 0,
    "hideHardwareSpecs": false,
    "memoryGiB": 8,
    "name": "ml.m5d.large",
    "vcpuNum": 2
   },
   {
    "_defaultOrder": 13,
    "_isFastLaunch": false,
    "category": "General purpose",
    "gpuNum": 0,
    "hideHardwareSpecs": false,
    "memoryGiB": 16,
    "name": "ml.m5d.xlarge",
    "vcpuNum": 4
   },
   {
    "_defaultOrder": 14,
    "_isFastLaunch": false,
    "category": "General purpose",
    "gpuNum": 0,
    "hideHardwareSpecs": false,
    "memoryGiB": 32,
    "name": "ml.m5d.2xlarge",
    "vcpuNum": 8
   },
   {
    "_defaultOrder": 15,
    "_isFastLaunch": false,
    "category": "General purpose",
    "gpuNum": 0,
    "hideHardwareSpecs": false,
    "memoryGiB": 64,
    "name": "ml.m5d.4xlarge",
    "vcpuNum": 16
   },
   {
    "_defaultOrder": 16,
    "_isFastLaunch": false,
    "category": "General purpose",
    "gpuNum": 0,
    "hideHardwareSpecs": false,
    "memoryGiB": 128,
    "name": "ml.m5d.8xlarge",
    "vcpuNum": 32
   },
   {
    "_defaultOrder": 17,
    "_isFastLaunch": false,
    "category": "General purpose",
    "gpuNum": 0,
    "hideHardwareSpecs": false,
    "memoryGiB": 192,
    "name": "ml.m5d.12xlarge",
    "vcpuNum": 48
   },
   {
    "_defaultOrder": 18,
    "_isFastLaunch": false,
    "category": "General purpose",
    "gpuNum": 0,
    "hideHardwareSpecs": false,
    "memoryGiB": 256,
    "name": "ml.m5d.16xlarge",
    "vcpuNum": 64
   },
   {
    "_defaultOrder": 19,
    "_isFastLaunch": false,
    "category": "General purpose",
    "gpuNum": 0,
    "hideHardwareSpecs": false,
    "memoryGiB": 384,
    "name": "ml.m5d.24xlarge",
    "vcpuNum": 96
   },
   {
    "_defaultOrder": 20,
    "_isFastLaunch": false,
    "category": "General purpose",
    "gpuNum": 0,
    "hideHardwareSpecs": true,
    "memoryGiB": 0,
    "name": "ml.geospatial.interactive",
    "supportedImageNames": [
     "sagemaker-geospatial-v1-0"
    ],
    "vcpuNum": 0
   },
   {
    "_defaultOrder": 21,
    "_isFastLaunch": true,
    "category": "Compute optimized",
    "gpuNum": 0,
    "hideHardwareSpecs": false,
    "memoryGiB": 4,
    "name": "ml.c5.large",
    "vcpuNum": 2
   },
   {
    "_defaultOrder": 22,
    "_isFastLaunch": false,
    "category": "Compute optimized",
    "gpuNum": 0,
    "hideHardwareSpecs": false,
    "memoryGiB": 8,
    "name": "ml.c5.xlarge",
    "vcpuNum": 4
   },
   {
    "_defaultOrder": 23,
    "_isFastLaunch": false,
    "category": "Compute optimized",
    "gpuNum": 0,
    "hideHardwareSpecs": false,
    "memoryGiB": 16,
    "name": "ml.c5.2xlarge",
    "vcpuNum": 8
   },
   {
    "_defaultOrder": 24,
    "_isFastLaunch": false,
    "category": "Compute optimized",
    "gpuNum": 0,
    "hideHardwareSpecs": false,
    "memoryGiB": 32,
    "name": "ml.c5.4xlarge",
    "vcpuNum": 16
   },
   {
    "_defaultOrder": 25,
    "_isFastLaunch": false,
    "category": "Compute optimized",
    "gpuNum": 0,
    "hideHardwareSpecs": false,
    "memoryGiB": 72,
    "name": "ml.c5.9xlarge",
    "vcpuNum": 36
   },
   {
    "_defaultOrder": 26,
    "_isFastLaunch": false,
    "category": "Compute optimized",
    "gpuNum": 0,
    "hideHardwareSpecs": false,
    "memoryGiB": 96,
    "name": "ml.c5.12xlarge",
    "vcpuNum": 48
   },
   {
    "_defaultOrder": 27,
    "_isFastLaunch": false,
    "category": "Compute optimized",
    "gpuNum": 0,
    "hideHardwareSpecs": false,
    "memoryGiB": 144,
    "name": "ml.c5.18xlarge",
    "vcpuNum": 72
   },
   {
    "_defaultOrder": 28,
    "_isFastLaunch": false,
    "category": "Compute optimized",
    "gpuNum": 0,
    "hideHardwareSpecs": false,
    "memoryGiB": 192,
    "name": "ml.c5.24xlarge",
    "vcpuNum": 96
   },
   {
    "_defaultOrder": 29,
    "_isFastLaunch": true,
    "category": "Accelerated computing",
    "gpuNum": 1,
    "hideHardwareSpecs": false,
    "memoryGiB": 16,
    "name": "ml.g4dn.xlarge",
    "vcpuNum": 4
   },
   {
    "_defaultOrder": 30,
    "_isFastLaunch": false,
    "category": "Accelerated computing",
    "gpuNum": 1,
    "hideHardwareSpecs": false,
    "memoryGiB": 32,
    "name": "ml.g4dn.2xlarge",
    "vcpuNum": 8
   },
   {
    "_defaultOrder": 31,
    "_isFastLaunch": false,
    "category": "Accelerated computing",
    "gpuNum": 1,
    "hideHardwareSpecs": false,
    "memoryGiB": 64,
    "name": "ml.g4dn.4xlarge",
    "vcpuNum": 16
   },
   {
    "_defaultOrder": 32,
    "_isFastLaunch": false,
    "category": "Accelerated computing",
    "gpuNum": 1,
    "hideHardwareSpecs": false,
    "memoryGiB": 128,
    "name": "ml.g4dn.8xlarge",
    "vcpuNum": 32
   },
   {
    "_defaultOrder": 33,
    "_isFastLaunch": false,
    "category": "Accelerated computing",
    "gpuNum": 4,
    "hideHardwareSpecs": false,
    "memoryGiB": 192,
    "name": "ml.g4dn.12xlarge",
    "vcpuNum": 48
   },
   {
    "_defaultOrder": 34,
    "_isFastLaunch": false,
    "category": "Accelerated computing",
    "gpuNum": 1,
    "hideHardwareSpecs": false,
    "memoryGiB": 256,
    "name": "ml.g4dn.16xlarge",
    "vcpuNum": 64
   },
   {
    "_defaultOrder": 35,
    "_isFastLaunch": false,
    "category": "Accelerated computing",
    "gpuNum": 1,
    "hideHardwareSpecs": false,
    "memoryGiB": 61,
    "name": "ml.p3.2xlarge",
    "vcpuNum": 8
   },
   {
    "_defaultOrder": 36,
    "_isFastLaunch": false,
    "category": "Accelerated computing",
    "gpuNum": 4,
    "hideHardwareSpecs": false,
    "memoryGiB": 244,
    "name": "ml.p3.8xlarge",
    "vcpuNum": 32
   },
   {
    "_defaultOrder": 37,
    "_isFastLaunch": false,
    "category": "Accelerated computing",
    "gpuNum": 8,
    "hideHardwareSpecs": false,
    "memoryGiB": 488,
    "name": "ml.p3.16xlarge",
    "vcpuNum": 64
   },
   {
    "_defaultOrder": 38,
    "_isFastLaunch": false,
    "category": "Accelerated computing",
    "gpuNum": 8,
    "hideHardwareSpecs": false,
    "memoryGiB": 768,
    "name": "ml.p3dn.24xlarge",
    "vcpuNum": 96
   },
   {
    "_defaultOrder": 39,
    "_isFastLaunch": false,
    "category": "Memory Optimized",
    "gpuNum": 0,
    "hideHardwareSpecs": false,
    "memoryGiB": 16,
    "name": "ml.r5.large",
    "vcpuNum": 2
   },
   {
    "_defaultOrder": 40,
    "_isFastLaunch": false,
    "category": "Memory Optimized",
    "gpuNum": 0,
    "hideHardwareSpecs": false,
    "memoryGiB": 32,
    "name": "ml.r5.xlarge",
    "vcpuNum": 4
   },
   {
    "_defaultOrder": 41,
    "_isFastLaunch": false,
    "category": "Memory Optimized",
    "gpuNum": 0,
    "hideHardwareSpecs": false,
    "memoryGiB": 64,
    "name": "ml.r5.2xlarge",
    "vcpuNum": 8
   },
   {
    "_defaultOrder": 42,
    "_isFastLaunch": false,
    "category": "Memory Optimized",
    "gpuNum": 0,
    "hideHardwareSpecs": false,
    "memoryGiB": 128,
    "name": "ml.r5.4xlarge",
    "vcpuNum": 16
   },
   {
    "_defaultOrder": 43,
    "_isFastLaunch": false,
    "category": "Memory Optimized",
    "gpuNum": 0,
    "hideHardwareSpecs": false,
    "memoryGiB": 256,
    "name": "ml.r5.8xlarge",
    "vcpuNum": 32
   },
   {
    "_defaultOrder": 44,
    "_isFastLaunch": false,
    "category": "Memory Optimized",
    "gpuNum": 0,
    "hideHardwareSpecs": false,
    "memoryGiB": 384,
    "name": "ml.r5.12xlarge",
    "vcpuNum": 48
   },
   {
    "_defaultOrder": 45,
    "_isFastLaunch": false,
    "category": "Memory Optimized",
    "gpuNum": 0,
    "hideHardwareSpecs": false,
    "memoryGiB": 512,
    "name": "ml.r5.16xlarge",
    "vcpuNum": 64
   },
   {
    "_defaultOrder": 46,
    "_isFastLaunch": false,
    "category": "Memory Optimized",
    "gpuNum": 0,
    "hideHardwareSpecs": false,
    "memoryGiB": 768,
    "name": "ml.r5.24xlarge",
    "vcpuNum": 96
   },
   {
    "_defaultOrder": 47,
    "_isFastLaunch": false,
    "category": "Accelerated computing",
    "gpuNum": 1,
    "hideHardwareSpecs": false,
    "memoryGiB": 16,
    "name": "ml.g5.xlarge",
    "vcpuNum": 4
   },
   {
    "_defaultOrder": 48,
    "_isFastLaunch": false,
    "category": "Accelerated computing",
    "gpuNum": 1,
    "hideHardwareSpecs": false,
    "memoryGiB": 32,
    "name": "ml.g5.2xlarge",
    "vcpuNum": 8
   },
   {
    "_defaultOrder": 49,
    "_isFastLaunch": false,
    "category": "Accelerated computing",
    "gpuNum": 1,
    "hideHardwareSpecs": false,
    "memoryGiB": 64,
    "name": "ml.g5.4xlarge",
    "vcpuNum": 16
   },
   {
    "_defaultOrder": 50,
    "_isFastLaunch": false,
    "category": "Accelerated computing",
    "gpuNum": 1,
    "hideHardwareSpecs": false,
    "memoryGiB": 128,
    "name": "ml.g5.8xlarge",
    "vcpuNum": 32
   },
   {
    "_defaultOrder": 51,
    "_isFastLaunch": false,
    "category": "Accelerated computing",
    "gpuNum": 1,
    "hideHardwareSpecs": false,
    "memoryGiB": 256,
    "name": "ml.g5.16xlarge",
    "vcpuNum": 64
   },
   {
    "_defaultOrder": 52,
    "_isFastLaunch": false,
    "category": "Accelerated computing",
    "gpuNum": 4,
    "hideHardwareSpecs": false,
    "memoryGiB": 192,
    "name": "ml.g5.12xlarge",
    "vcpuNum": 48
   },
   {
    "_defaultOrder": 53,
    "_isFastLaunch": false,
    "category": "Accelerated computing",
    "gpuNum": 4,
    "hideHardwareSpecs": false,
    "memoryGiB": 384,
    "name": "ml.g5.24xlarge",
    "vcpuNum": 96
   },
   {
    "_defaultOrder": 54,
    "_isFastLaunch": false,
    "category": "Accelerated computing",
    "gpuNum": 8,
    "hideHardwareSpecs": false,
    "memoryGiB": 768,
    "name": "ml.g5.48xlarge",
    "vcpuNum": 192
   },
   {
    "_defaultOrder": 55,
    "_isFastLaunch": false,
    "category": "Accelerated computing",
    "gpuNum": 8,
    "hideHardwareSpecs": false,
    "memoryGiB": 1152,
    "name": "ml.p4d.24xlarge",
    "vcpuNum": 96
   },
   {
    "_defaultOrder": 56,
    "_isFastLaunch": false,
    "category": "Accelerated computing",
    "gpuNum": 8,
    "hideHardwareSpecs": false,
    "memoryGiB": 1152,
    "name": "ml.p4de.24xlarge",
    "vcpuNum": 96
   },
   {
    "_defaultOrder": 57,
    "_isFastLaunch": false,
    "category": "Accelerated computing",
    "gpuNum": 0,
    "hideHardwareSpecs": false,
    "memoryGiB": 32,
    "name": "ml.trn1.2xlarge",
    "vcpuNum": 8
   },
   {
    "_defaultOrder": 58,
    "_isFastLaunch": false,
    "category": "Accelerated computing",
    "gpuNum": 0,
    "hideHardwareSpecs": false,
    "memoryGiB": 512,
    "name": "ml.trn1.32xlarge",
    "vcpuNum": 128
   },
   {
    "_defaultOrder": 59,
    "_isFastLaunch": false,
    "category": "Accelerated computing",
    "gpuNum": 0,
    "hideHardwareSpecs": false,
    "memoryGiB": 512,
    "name": "ml.trn1n.32xlarge",
    "vcpuNum": 128
   }
  ],
  "instance_type": "ml.t3.medium",
  "kernelspec": {
   "display_name": "Python 3 (ipykernel)",
   "language": "python",
   "name": "python3"
  },
  "language_info": {
   "codemirror_mode": {
    "name": "ipython",
    "version": 3
   },
   "file_extension": ".py",
   "mimetype": "text/x-python",
   "name": "python",
   "nbconvert_exporter": "python",
   "pygments_lexer": "ipython3",
   "version": "3.11.11"
  },
  "toc-showcode": true
 },
 "nbformat": 4,
 "nbformat_minor": 4
}
