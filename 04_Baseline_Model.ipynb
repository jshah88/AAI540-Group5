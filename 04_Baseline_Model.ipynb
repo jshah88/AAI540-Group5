{
 "cells": [
  {
   "cell_type": "markdown",
   "id": "34b1c3f5-d22c-406b-8c4d-bf93e9a8ca85",
   "metadata": {},
   "source": [
    "# 04 Baseline Model"
   ]
  },
  {
   "cell_type": "code",
   "execution_count": null,
   "id": "568fb9c8-07c1-4c02-9c4f-fa29b530086c",
   "metadata": {},
   "outputs": [],
   "source": [
    "import pandas as pd\n",
    "import numpy as np\n",
    "import os\n",
    "from sklearn.model_selection import train_test_split\n",
    "from sklearn.linear_model import LinearRegression\n",
    "from sklearn.metrics import mean_squared_error, r2_score\n",
    "import joblib\n",
    "import boto3\n",
    "import sagemaker\n",
    "from pyathena import connect\n"
   ]
  },
  {
   "cell_type": "markdown",
   "id": "332a2011-8095-495d-ba5d-9194754d176a",
   "metadata": {},
   "source": [
    "# Query Values from Development Database"
   ]
  },
  {
   "cell_type": "code",
   "execution_count": null,
   "id": "d0a70edd-f6a5-42e6-8436-99d83134abd5",
   "metadata": {},
   "outputs": [],
   "source": [
    "# Define file path\n",
    "csv_path = \"development_data.csv\"\n",
    "\n",
    "# Check if CSV file exists\n",
    "if os.path.exists(csv_path):\n",
    "    print(\"Loading data from local CSV...\")\n",
    "    df = pd.read_csv(csv_path)\n",
    "else:\n",
    "    print(\"CSV not found! Querying from Athena...\")\n",
    "    \n",
    "    # Use the same Athena connection details\n",
    "    database_name = \"db_airline_delay_cause\"\n",
    "    table_name = \"development_data\"\n",
    "    bucket = sagemaker_session.default_bucket()  \n",
    "    s3_staging_dir = f\"s3://{bucket}/athena-results/\"\n",
    "    \n",
    "    # Athena connection\n",
    "    conn = connect(s3_staging_dir=s3_staging_dir, region_name=\"us-east-1\")\n",
    "    \n",
    "    # Query development dataset\n",
    "    query = f\"SELECT * FROM {database_name}.{table_name};\"\n",
    "    df = pd.read_sql(query, conn)\n",
    "    \n",
    "    # Save locally for future use\n",
    "    df.to_csv(csv_path, index=False)\n",
    "    print(f\"Data saved locally as {csv_path}\")\n",
    "\n",
    "# Define feature columns and target variable\n",
    "features = [\n",
    "    \"arr_flights\", \"arr_del15\", \"carrier_ct\", \"weather_ct\", \"nas_ct\", \n",
    "    \"security_ct\", \"late_aircraft_ct\", \"arr_cancelled\", \"arr_diverted\", \n",
    "    \"arr_delay\", \"carrier_delay\", \"weather_delay\", \"nas_delay\", \n",
    "    \"security_delay\", \"late_aircraft_delay\", \"delay_rate\"\n",
    "]\n",
    "target = \"on_time\"\n",
    "\n",
    "# Ensure no missing values\n",
    "df = df.dropna()\n",
    "\n"
   ]
  },
  {
   "cell_type": "markdown",
   "id": "7671742a-75af-43d4-b59b-135a117875aa",
   "metadata": {},
   "source": [
    "# Create Linear Regression Baseline Model"
   ]
  },
  {
   "cell_type": "code",
   "execution_count": null,
   "id": "a9d52aba-2689-4214-905d-68b7cc171391",
   "metadata": {},
   "outputs": [],
   "source": [
    "# Split the dataset into training and testing sets\n",
    "X_train, X_test, y_train, y_test = train_test_split(df[features], df[target], test_size=0.2, random_state=42)\n",
    "\n",
    "# Initialize and train a Linear Regression model\n",
    "model = LinearRegression()\n",
    "model.fit(X_train, y_train)\n",
    "\n",
    "# Make predictions\n",
    "y_pred = model.predict(X_test)\n",
    "\n"
   ]
  },
  {
   "cell_type": "markdown",
   "id": "e2fea5e4",
   "metadata": {},
   "source": [
    "# Evaluate Model Performance"
   ]
  },
  {
   "cell_type": "code",
   "execution_count": null,
   "id": "803938a7-7559-4c38-a742-91cbbd91ee4e",
   "metadata": {},
   "outputs": [],
   "source": [
    "mse = mean_squared_error(y_test, y_pred)\n",
    "r2 = r2_score(y_test, y_pred)\n",
    "\n",
    "print(f\"Mean Squared Error: {mse:.4f}\")\n",
    "print(f\"R² Score: {r2:.4f}\")\n",
    "\n",
    "\n"
   ]
  },
  {
   "cell_type": "markdown",
   "id": "36ddd28f-f6fd-41f8-97bb-befca987a06e",
   "metadata": {},
   "source": [
    "# Visualization"
   ]
  },
  {
   "cell_type": "code",
   "execution_count": null,
   "id": "c313ba67-faef-40e2-bc7f-c91ffee45a03",
   "metadata": {},
   "outputs": [],
   "source": [
    "# Visualization\n",
    "plt.figure(figsize=(12,5))\n",
    "plt.subplot(1, 2, 1)\n",
    "plt.scatter(y_train, y_train_pred, alpha=0.5, color='blue')\n",
    "plt.xlabel(\"Actual On-Time\")\n",
    "plt.ylabel(\"Predicted On-Time\")\n",
    "plt.title(\"Training Set Predictions\")\n",
    "plt.grid()\n",
    "\n",
    "plt.subplot(1, 2, 2)\n",
    "plt.scatter(y_test, y_test_pred, alpha=0.5, color='red')\n",
    "plt.xlabel(\"Actual On-Time\")\n",
    "plt.ylabel(\"Predicted On-Time\")\n",
    "plt.title(\"Test Set Predictions\")\n",
    "plt.grid()\n",
    "\n",
    "plt.tight_layout()\n",
    "plt.show()\n"
   ]
  },
  {
   "cell_type": "markdown",
   "id": "b1f806d1",
   "metadata": {},
   "source": [
    "# Store Model"
   ]
  },
  {
   "cell_type": "code",
   "execution_count": null,
   "id": "b2070bd0-639f-43cb-b911-f5d52dd0e38b",
   "metadata": {},
   "outputs": [],
   "source": [
    "# Save the model for future use\n",
    "joblib.dump(model, \"baseline_model.pkl\")\n",
    "print(\"Model saved as baseline_model.pkl\")"
   ]
  }
 ],
 "metadata": {
  "kernelspec": {
   "display_name": "Python 3 (ipykernel)",
   "language": "python",
   "name": "python3"
  },
  "language_info": {
   "codemirror_mode": {
    "name": "ipython",
    "version": 3
   },
   "file_extension": ".py",
   "mimetype": "text/x-python",
   "name": "python",
   "nbconvert_exporter": "python",
   "pygments_lexer": "ipython3",
   "version": "3.11.11"
  }
 },
 "nbformat": 4,
 "nbformat_minor": 5
}
